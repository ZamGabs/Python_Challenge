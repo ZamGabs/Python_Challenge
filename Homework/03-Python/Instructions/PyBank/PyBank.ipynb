{
 "cells": [
  {
   "cell_type": "code",
   "execution_count": 12,
   "metadata": {},
   "outputs": [
    {
     "name": "stdout",
     "output_type": "stream",
     "text": [
      "['Date', 'Profit/Losses']\n",
      "86 [] ['Jan-2010', 'Feb-2010', 'Mar-2010', 'Apr-2010', 'May-2010', 'Jun-2010', 'Jul-2010', 'Aug-2010', 'Sep-2010', 'Oct-2010', 'Nov-2010', 'Dec-2010', 'Jan-2011', 'Feb-2011', 'Mar-2011', 'Apr-2011', 'May-2011', 'Jun-2011', 'Jul-2011', 'Aug-2011', 'Sep-2011', 'Oct-2011', 'Nov-2011', 'Dec-2011', 'Jan-2012', 'Feb-2012', 'Mar-2012', 'Apr-2012', 'May-2012', 'Jun-2012', 'Jul-2012', 'Aug-2012', 'Sep-2012', 'Oct-2012', 'Nov-2012', 'Dec-2012', 'Jan-2013', 'Feb-2013', 'Mar-2013', 'Apr-2013', 'May-2013', 'Jun-2013', 'Jul-2013', 'Aug-2013', 'Sep-2013', 'Oct-2013', 'Nov-2013', 'Dec-2013', 'Jan-2014', 'Feb-2014', 'Mar-2014', 'Apr-2014', 'May-2014', 'Jun-2014', 'Jul-2014', 'Aug-2014', 'Sep-2014', 'Oct-2014', 'Nov-2014', 'Dec-2014', 'Jan-2015', 'Feb-2015', 'Mar-2015', 'Apr-2015', 'May-2015', 'Jun-2015', 'Jul-2015', 'Aug-2015', 'Sep-2015', 'Oct-2015', 'Nov-2015', 'Dec-2015', 'Jan-2016', 'Feb-2016', 'Mar-2016', 'Apr-2016', 'May-2016', 'Jun-2016', 'Jul-2016', 'Aug-2016', 'Sep-2016', 'Oct-2016', 'Nov-2016', 'Dec-2016', 'Jan-2017', 'Feb-2017']\n",
      "-2315.1176470588234\n",
      "-2196167 1926159 Sep-2013\n"
     ]
    }
   ],
   "source": [
    "# importing all dependencies\n",
    "import os\n",
    "import csv\n",
    "# defining path - i am using it this way because it was not working for me \n",
    "PyBank=os.path.join('/Users/gabrielazamora/Python Challenge/Python_Challenge/Homework/03-Python/Instructions/PyBank/Resources/budget_data.csv')\n",
    "PyBank_Output=os.path.join('/Users/gabrielazamora/Python Challenge/Python_Challenge/Homework/03-Python/Instructions/PyBank/Analysis/Financial.txt')\n",
    "                           \n",
    "# reading the csv file\n",
    "with open(PyBank,'r') as csv_file:\n",
    "    budget=csv.reader(csv_file)\n",
    "    header=next(budget)\n",
    "    print(header)\n",
    "# defining variables\n",
    "    total_months=0\n",
    "    net_total=0\n",
    "    profit_and_losses=[]\n",
    "    average_changes=[]\n",
    "    date=[]\n",
    "    change=[]\n",
    "    \n",
    "    for columns in budget:\n",
    "        total_months=total_months+1\n",
    "        net_total=net_total+int(columns[1])\n",
    "        profit_and_losses.append(columns[1])\n",
    "        date.append(columns[0])\n",
    "    for x in range(1,len(profit_and_losses)):\n",
    "        change.append(int(profit_and_losses[x])-int(profit_and_losses[x-1]))\n",
    "        #average_changes.append(change)\n",
    "    print(total_months,average_changes,date)\n",
    "    average_changes=sum(change)/len(change)\n",
    "    \n",
    "    print(average_changes)\n",
    "    greatest_increase=max(change)\n",
    "    greatest_decrease=min(change)\n",
    "    greatest_increase_date=date[change.index(greatest_increase)+1]\n",
    "    greatest_decrease_date=date[change.index(greatest_decrease)+1]\n",
    "    print(greatest_decrease,greatest_increase,greatest_decrease_date)"
   ]
  },
  {
   "cell_type": "code",
   "execution_count": 8,
   "metadata": {},
   "outputs": [
    {
     "name": "stdout",
     "output_type": "stream",
     "text": [
      "financial analysts\n",
      "total months is 86\n",
      "net_total is 38382578\n",
      "average_changes is -2315.1176470588234\n",
      "greatest increase in profits is 1926159, Feb-2012\n",
      "greatest decrease in profits is-2196167, Sep-2013\n",
      "\n"
     ]
    }
   ],
   "source": [
    "output=(\n",
    "f'financial analysts\\n'\n",
    "f'total months is {total_months}\\n'\n",
    "f'net_total is {net_total}\\n'\n",
    "f'average_changes is {average_changes}\\n'\n",
    "f'greatest increase in profits is {greatest_increase}, {greatest_increase_date}\\n'\n",
    "f'greatest decrease in profits is{greatest_decrease}, {greatest_decrease_date}\\n'\n",
    ")\n",
    "print(output)"
   ]
  },
  {
   "cell_type": "code",
   "execution_count": 14,
   "metadata": {},
   "outputs": [],
   "source": [
    "with open(PyBank_Output,'a') as txtfile:\n",
    "    txtfile.write(output)"
   ]
  },
  {
   "cell_type": "code",
   "execution_count": null,
   "metadata": {},
   "outputs": [],
   "source": []
  },
  {
   "cell_type": "code",
   "execution_count": null,
   "metadata": {},
   "outputs": [],
   "source": []
  }
 ],
 "metadata": {
  "kernelspec": {
   "display_name": "Python 3",
   "language": "python",
   "name": "python3"
  },
  "language_info": {
   "codemirror_mode": {
    "name": "ipython",
    "version": 3
   },
   "file_extension": ".py",
   "mimetype": "text/x-python",
   "name": "python",
   "nbconvert_exporter": "python",
   "pygments_lexer": "ipython3",
   "version": "3.8.3"
  }
 },
 "nbformat": 4,
 "nbformat_minor": 4
}
